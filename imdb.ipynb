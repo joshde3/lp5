{
 "cells": [
  {
   "cell_type": "code",
   "execution_count": 23,
   "id": "ee6978cc",
   "metadata": {},
   "outputs": [],
   "source": [
    "from keras.datasets import imdb\n",
    "import numpy as np\n",
    "(train_data,train_target),(test_data,test_target)=imdb.load_data(num_words=10000)"
   ]
  },
  {
   "cell_type": "code",
   "execution_count": 24,
   "id": "f3d3ba18",
   "metadata": {},
   "outputs": [],
   "source": [
    "def vectorize(sequences, dimension=10000):\n",
    "    results = np.zeros((len(sequences),dimension))\n",
    "    for i, seq in enumerate(sequences):\n",
    "        results[i,seq]=1\n",
    "    return results"
   ]
  },
  {
   "cell_type": "code",
   "execution_count": 25,
   "id": "20c6d87b",
   "metadata": {},
   "outputs": [],
   "source": [
    "x_train=vectorize(train_data)\n",
    "x_test=vectorize(test_data)"
   ]
  },
  {
   "cell_type": "code",
   "execution_count": 26,
   "id": "70cd2950",
   "metadata": {},
   "outputs": [],
   "source": [
    "y_train=np.array(train_target,dtype='float32')\n",
    "y_test=np.array(test_target,dtype='float32')"
   ]
  },
  {
   "cell_type": "code",
   "execution_count": 27,
   "id": "decf68cd",
   "metadata": {},
   "outputs": [],
   "source": [
    "from keras.models import Sequential\n",
    "from keras.layers import Dense\n",
    "from keras.optimizers import Adam\n",
    "from keras.losses import binary_crossentropy"
   ]
  },
  {
   "cell_type": "code",
   "execution_count": 32,
   "id": "b1bc3bc2",
   "metadata": {},
   "outputs": [],
   "source": [
    "model=Sequential()\n",
    "model.add(Dense(16,activation=\"relu\", input_shape=(10000,)))\n",
    "model.add(Dense(8,activation=\"relu\"))\n",
    "model.add(Dense(1,activation=\"sigmoid\"))\n"
   ]
  },
  {
   "cell_type": "code",
   "execution_count": 34,
   "id": "ca9f7f8d",
   "metadata": {},
   "outputs": [],
   "source": [
    "model.compile(optimizer='adam',loss='binary_crossentropy', metrics='accuracy')"
   ]
  },
  {
   "cell_type": "code",
   "execution_count": 37,
   "id": "8c26e34d",
   "metadata": {},
   "outputs": [
    {
     "name": "stdout",
     "output_type": "stream",
     "text": [
      "Epoch 1/20\n",
      "3125/3125 [==============================] - 10s 3ms/step - loss: 0.0060 - accuracy: 0.9985 - val_loss: 1.2872 - val_accuracy: 0.8463\n",
      "Epoch 2/20\n",
      "3125/3125 [==============================] - 9s 3ms/step - loss: 0.0026 - accuracy: 0.9993 - val_loss: 1.4857 - val_accuracy: 0.8516\n",
      "Epoch 3/20\n",
      "3125/3125 [==============================] - 9s 3ms/step - loss: 0.0020 - accuracy: 0.9994 - val_loss: 1.5374 - val_accuracy: 0.8553\n",
      "Epoch 4/20\n",
      "3125/3125 [==============================] - 9s 3ms/step - loss: 0.0024 - accuracy: 0.9994 - val_loss: 1.5685 - val_accuracy: 0.8558\n",
      "Epoch 5/20\n",
      "3125/3125 [==============================] - 9s 3ms/step - loss: 0.0021 - accuracy: 0.9994 - val_loss: 1.5953 - val_accuracy: 0.8417\n",
      "Epoch 6/20\n",
      "3125/3125 [==============================] - 9s 3ms/step - loss: 0.0014 - accuracy: 0.9995 - val_loss: 1.6570 - val_accuracy: 0.8562\n",
      "Epoch 7/20\n",
      "3125/3125 [==============================] - 10s 3ms/step - loss: 9.0443e-04 - accuracy: 0.9997 - val_loss: 1.6790 - val_accuracy: 0.8547\n",
      "Epoch 8/20\n",
      "3125/3125 [==============================] - 9s 3ms/step - loss: 0.0020 - accuracy: 0.9994 - val_loss: 1.7559 - val_accuracy: 0.8519\n",
      "Epoch 9/20\n",
      "3125/3125 [==============================] - 9s 3ms/step - loss: 0.0025 - accuracy: 0.9992 - val_loss: 1.6826 - val_accuracy: 0.8508\n",
      "Epoch 10/20\n",
      "3125/3125 [==============================] - 9s 3ms/step - loss: 0.0044 - accuracy: 0.9992 - val_loss: 1.7556 - val_accuracy: 0.8574\n",
      "Epoch 11/20\n",
      "3125/3125 [==============================] - 9s 3ms/step - loss: 7.3196e-04 - accuracy: 0.9998 - val_loss: 1.7042 - val_accuracy: 0.8558\n",
      "Epoch 12/20\n",
      "3125/3125 [==============================] - 9s 3ms/step - loss: 2.8534e-05 - accuracy: 1.0000 - val_loss: 1.8352 - val_accuracy: 0.8553\n",
      "Epoch 13/20\n",
      "3125/3125 [==============================] - 9s 3ms/step - loss: 5.9970e-06 - accuracy: 1.0000 - val_loss: 1.9717 - val_accuracy: 0.8561\n",
      "Epoch 14/20\n",
      "3125/3125 [==============================] - 9s 3ms/step - loss: 1.7180e-06 - accuracy: 1.0000 - val_loss: 2.1134 - val_accuracy: 0.8558\n",
      "Epoch 15/20\n",
      "3125/3125 [==============================] - 9s 3ms/step - loss: 4.6021e-07 - accuracy: 1.0000 - val_loss: 2.2701 - val_accuracy: 0.8562\n",
      "Epoch 16/20\n",
      "3125/3125 [==============================] - 9s 3ms/step - loss: 9.3495e-08 - accuracy: 1.0000 - val_loss: 2.4641 - val_accuracy: 0.8562\n",
      "Epoch 17/20\n",
      "3125/3125 [==============================] - 9s 3ms/step - loss: 2.2055e-08 - accuracy: 1.0000 - val_loss: 2.6276 - val_accuracy: 0.8574\n",
      "Epoch 18/20\n",
      "3125/3125 [==============================] - 9s 3ms/step - loss: 6.4556e-09 - accuracy: 1.0000 - val_loss: 2.8095 - val_accuracy: 0.8572\n",
      "Epoch 19/20\n",
      "3125/3125 [==============================] - 10s 3ms/step - loss: 2.1132e-09 - accuracy: 1.0000 - val_loss: 2.9723 - val_accuracy: 0.8562\n",
      "Epoch 20/20\n",
      "3125/3125 [==============================] - 9s 3ms/step - loss: 1.0771e-09 - accuracy: 1.0000 - val_loss: 3.0529 - val_accuracy: 0.8567\n"
     ]
    },
    {
     "data": {
      "text/plain": [
       "<keras.callbacks.History at 0x19cd2a60950>"
      ]
     },
     "execution_count": 37,
     "metadata": {},
     "output_type": "execute_result"
    }
   ],
   "source": [
    "model.fit(x_train,\n",
    "    y_train,\n",
    "    batch_size=8,\n",
    "    epochs=20,\n",
    "    validation_data=(x_test,y_test))"
   ]
  },
  {
   "cell_type": "code",
   "execution_count": 38,
   "id": "c4850e2a",
   "metadata": {},
   "outputs": [
    {
     "name": "stdout",
     "output_type": "stream",
     "text": [
      "782/782 [==============================] - 1s 1ms/step - loss: 3.0529 - accuracy: 0.8567\n"
     ]
    },
    {
     "data": {
      "text/plain": [
       "[3.0528528690338135, 0.8566799759864807]"
      ]
     },
     "execution_count": 38,
     "metadata": {},
     "output_type": "execute_result"
    }
   ],
   "source": [
    "model.evaluate(x_test,y_test)"
   ]
  },
  {
   "cell_type": "code",
   "execution_count": 39,
   "id": "8ebc81d4",
   "metadata": {},
   "outputs": [],
   "source": [
    "result={0:\"Negative\",1:\"Positive\"}"
   ]
  },
  {
   "cell_type": "code",
   "execution_count": 40,
   "id": "d74a9491",
   "metadata": {},
   "outputs": [
    {
     "data": {
      "text/plain": [
       "[1,\n",
       " 591,\n",
       " 202,\n",
       " 14,\n",
       " 31,\n",
       " 6,\n",
       " 717,\n",
       " 10,\n",
       " 10,\n",
       " 2,\n",
       " 2,\n",
       " 5,\n",
       " 4,\n",
       " 360,\n",
       " 7,\n",
       " 4,\n",
       " 177,\n",
       " 5760,\n",
       " 394,\n",
       " 354,\n",
       " 4,\n",
       " 123,\n",
       " 9,\n",
       " 1035,\n",
       " 1035,\n",
       " 1035,\n",
       " 10,\n",
       " 10,\n",
       " 13,\n",
       " 92,\n",
       " 124,\n",
       " 89,\n",
       " 488,\n",
       " 7944,\n",
       " 100,\n",
       " 28,\n",
       " 1668,\n",
       " 14,\n",
       " 31,\n",
       " 23,\n",
       " 27,\n",
       " 7479,\n",
       " 29,\n",
       " 220,\n",
       " 468,\n",
       " 8,\n",
       " 124,\n",
       " 14,\n",
       " 286,\n",
       " 170,\n",
       " 8,\n",
       " 157,\n",
       " 46,\n",
       " 5,\n",
       " 27,\n",
       " 239,\n",
       " 16,\n",
       " 179,\n",
       " 2,\n",
       " 38,\n",
       " 32,\n",
       " 25,\n",
       " 7944,\n",
       " 451,\n",
       " 202,\n",
       " 14,\n",
       " 6,\n",
       " 717]"
      ]
     },
     "execution_count": 40,
     "metadata": {},
     "output_type": "execute_result"
    }
   ],
   "source": [
    "test_data[0]"
   ]
  },
  {
   "cell_type": "code",
   "execution_count": 41,
   "id": "215c5b68",
   "metadata": {},
   "outputs": [],
   "source": [
    "d=vectorize(test_data)"
   ]
  },
  {
   "cell_type": "code",
   "execution_count": 42,
   "id": "4c8f88cd",
   "metadata": {},
   "outputs": [
    {
     "data": {
      "text/plain": [
       "array([[0., 1., 1., ..., 0., 0., 0.],\n",
       "       [0., 1., 1., ..., 0., 0., 0.],\n",
       "       [0., 1., 1., ..., 0., 0., 0.],\n",
       "       ...,\n",
       "       [0., 1., 1., ..., 0., 0., 0.],\n",
       "       [0., 1., 1., ..., 0., 0., 0.],\n",
       "       [0., 1., 1., ..., 0., 0., 0.]])"
      ]
     },
     "execution_count": 42,
     "metadata": {},
     "output_type": "execute_result"
    }
   ],
   "source": [
    "d"
   ]
  },
  {
   "cell_type": "code",
   "execution_count": 43,
   "id": "16e15124",
   "metadata": {},
   "outputs": [
    {
     "data": {
      "text/plain": [
       "array([0., 1., 1., ..., 0., 0., 0.])"
      ]
     },
     "execution_count": 43,
     "metadata": {},
     "output_type": "execute_result"
    }
   ],
   "source": [
    "d[0]"
   ]
  },
  {
   "cell_type": "code",
   "execution_count": 44,
   "id": "6faca5b7",
   "metadata": {},
   "outputs": [
    {
     "data": {
      "text/plain": [
       "0.0"
      ]
     },
     "execution_count": 44,
     "metadata": {},
     "output_type": "execute_result"
    }
   ],
   "source": [
    "d[0][0]"
   ]
  },
  {
   "cell_type": "code",
   "execution_count": 45,
   "id": "b14cddfa",
   "metadata": {},
   "outputs": [
    {
     "name": "stdout",
     "output_type": "stream",
     "text": [
      "782/782 [==============================] - 2s 2ms/step\n"
     ]
    }
   ],
   "source": [
    "l=model.predict(d)"
   ]
  },
  {
   "cell_type": "code",
   "execution_count": 46,
   "id": "9c4058d8",
   "metadata": {},
   "outputs": [
    {
     "data": {
      "text/plain": [
       "array([[9.9514024e-09],\n",
       "       [1.0000000e+00],\n",
       "       [1.0000000e+00],\n",
       "       ...,\n",
       "       [2.3059762e-12],\n",
       "       [2.6160501e-16],\n",
       "       [9.9112934e-01]], dtype=float32)"
      ]
     },
     "execution_count": 46,
     "metadata": {},
     "output_type": "execute_result"
    }
   ],
   "source": [
    "l"
   ]
  },
  {
   "cell_type": "code",
   "execution_count": 47,
   "id": "b8a4d4b5",
   "metadata": {},
   "outputs": [
    {
     "data": {
      "text/plain": [
       "array([9.951402e-09], dtype=float32)"
      ]
     },
     "execution_count": 47,
     "metadata": {},
     "output_type": "execute_result"
    }
   ],
   "source": [
    "l[0]"
   ]
  },
  {
   "cell_type": "code",
   "execution_count": 48,
   "id": "43c18f8a",
   "metadata": {},
   "outputs": [
    {
     "data": {
      "text/plain": [
       "9.951402e-09"
      ]
     },
     "execution_count": 48,
     "metadata": {},
     "output_type": "execute_result"
    }
   ],
   "source": [
    "l[0][0]"
   ]
  },
  {
   "cell_type": "code",
   "execution_count": 49,
   "id": "c603d5a8",
   "metadata": {},
   "outputs": [],
   "source": [
    "if l[0][0] < 0.5:\n",
    "    l=0\n",
    "else:\n",
    "    l=1"
   ]
  },
  {
   "cell_type": "code",
   "execution_count": 50,
   "id": "7a67a56c",
   "metadata": {},
   "outputs": [
    {
     "name": "stdout",
     "output_type": "stream",
     "text": [
      "Negative\n"
     ]
    }
   ],
   "source": [
    "print(result[l])"
   ]
  },
  {
   "cell_type": "code",
   "execution_count": 53,
   "id": "3fedf38a",
   "metadata": {},
   "outputs": [
    {
     "name": "stdout",
     "output_type": "stream",
     "text": [
      "Negative\n"
     ]
    }
   ],
   "source": [
    "print(result[test_target[0]])"
   ]
  },
  {
   "cell_type": "code",
   "execution_count": null,
   "id": "b5b7518c",
   "metadata": {},
   "outputs": [],
   "source": []
  }
 ],
 "metadata": {
  "kernelspec": {
   "display_name": "Python 3 (ipykernel)",
   "language": "python",
   "name": "python3"
  },
  "language_info": {
   "codemirror_mode": {
    "name": "ipython",
    "version": 3
   },
   "file_extension": ".py",
   "mimetype": "text/x-python",
   "name": "python",
   "nbconvert_exporter": "python",
   "pygments_lexer": "ipython3",
   "version": "3.11.0"
  }
 },
 "nbformat": 4,
 "nbformat_minor": 5
}
