{
 "cells": [
  {
   "cell_type": "code",
   "execution_count": 2,
   "id": "20688110",
   "metadata": {},
   "outputs": [],
   "source": [
    "from sklearn.linear_model import LinearRegression\n",
    "import pandas as pd"
   ]
  },
  {
   "cell_type": "code",
   "execution_count": 4,
   "id": "10fd873f",
   "metadata": {},
   "outputs": [],
   "source": [
    "df = pd.read_csv('data.csv')"
   ]
  },
  {
   "cell_type": "code",
   "execution_count": 5,
   "id": "97739aaf",
   "metadata": {},
   "outputs": [],
   "source": [
    "df[\"CRIM\"].fillna(df[\"CRIM\"].mean(), inplace=True) # fill CRIM with mean value\n",
    "df[\"ZN\"].fillna(0, inplace=True) # fill ZN with mode value, because 360 of the entries are 0\n",
    "df[\"INDUS\"].fillna(df[\"INDUS\"].mean(), inplace=True) # fill INDUS with mean value\n",
    "df[\"CHAS\"].fillna(0, inplace=True) # fill CHAS with mode value, bec\\ause 452 of the entries are 0\n",
    "df[\"AGE\"].fillna(df[\"AGE\"].mean(), inplace=True) # fill AGE with mean value\n",
    "df[\"LSTAT\"].fillna(df[\"LSTAT\"].mean(), inplace=True) # fill LSTAT with mean value"
   ]
  },
  {
   "cell_type": "code",
   "execution_count": 6,
   "id": "49788574",
   "metadata": {},
   "outputs": [
    {
     "data": {
      "text/plain": [
       "CRIM       0\n",
       "ZN         0\n",
       "INDUS      0\n",
       "CHAS       0\n",
       "NOX        0\n",
       "RM         0\n",
       "AGE        0\n",
       "DIS        0\n",
       "RAD        0\n",
       "TAX        0\n",
       "PTRATIO    0\n",
       "B          0\n",
       "LSTAT      0\n",
       "MEDV       0\n",
       "dtype: int64"
      ]
     },
     "execution_count": 6,
     "metadata": {},
     "output_type": "execute_result"
    }
   ],
   "source": [
    "df.isnull().sum()"
   ]
  },
  {
   "cell_type": "code",
   "execution_count": 7,
   "id": "4ea8cc03",
   "metadata": {},
   "outputs": [],
   "source": [
    "X = df.drop('MEDV',axis=1)\n",
    "y = df['MEDV']\n"
   ]
  },
  {
   "cell_type": "code",
   "execution_count": 8,
   "id": "26a0af31",
   "metadata": {},
   "outputs": [
    {
     "data": {
      "text/plain": [
       "LinearRegression()"
      ]
     },
     "execution_count": 8,
     "metadata": {},
     "output_type": "execute_result"
    }
   ],
   "source": [
    "from sklearn.model_selection import train_test_split\n",
    "X_train, X_test, y_train, y_test = train_test_split(X,y, random_state = 42)\n",
    "lr = LinearRegression()\n",
    "lr.fit(X_train, y_train)"
   ]
  },
  {
   "cell_type": "code",
   "execution_count": 9,
   "id": "edf734a9",
   "metadata": {},
   "outputs": [
    {
     "data": {
      "text/plain": [
       "0.6844267283527115"
      ]
     },
     "execution_count": 9,
     "metadata": {},
     "output_type": "execute_result"
    }
   ],
   "source": [
    "y_pred = lr.predict(X_test)\n",
    "lr.score(X_test,y_test)"
   ]
  },
  {
   "cell_type": "code",
   "execution_count": 10,
   "id": "845525d3",
   "metadata": {},
   "outputs": [
    {
     "name": "stdout",
     "output_type": "stream",
     "text": [
      "Epoch 1/50\n",
      "12/12 [==============================] - 2s 5ms/step - loss: 480.3857\n",
      "Epoch 2/50\n",
      "12/12 [==============================] - 0s 5ms/step - loss: 133.9747\n",
      "Epoch 3/50\n",
      "12/12 [==============================] - 0s 5ms/step - loss: 114.8058\n",
      "Epoch 4/50\n",
      "12/12 [==============================] - 0s 4ms/step - loss: 84.0851\n",
      "Epoch 5/50\n",
      "12/12 [==============================] - 0s 4ms/step - loss: 76.1557\n",
      "Epoch 6/50\n",
      "12/12 [==============================] - 0s 4ms/step - loss: 70.2826\n",
      "Epoch 7/50\n",
      "12/12 [==============================] - 0s 4ms/step - loss: 67.8912\n",
      "Epoch 8/50\n",
      "12/12 [==============================] - 0s 4ms/step - loss: 66.4036\n",
      "Epoch 9/50\n",
      "12/12 [==============================] - 0s 4ms/step - loss: 64.9254\n",
      "Epoch 10/50\n",
      "12/12 [==============================] - 0s 4ms/step - loss: 64.3841\n",
      "Epoch 11/50\n",
      "12/12 [==============================] - 0s 4ms/step - loss: 63.9056\n",
      "Epoch 12/50\n",
      "12/12 [==============================] - 0s 4ms/step - loss: 63.4297\n",
      "Epoch 13/50\n",
      "12/12 [==============================] - 0s 4ms/step - loss: 62.6967\n",
      "Epoch 14/50\n",
      "12/12 [==============================] - 0s 4ms/step - loss: 62.5283\n",
      "Epoch 15/50\n",
      "12/12 [==============================] - 0s 4ms/step - loss: 61.9427\n",
      "Epoch 16/50\n",
      "12/12 [==============================] - 0s 4ms/step - loss: 61.3742\n",
      "Epoch 17/50\n",
      "12/12 [==============================] - 0s 4ms/step - loss: 61.1278\n",
      "Epoch 18/50\n",
      "12/12 [==============================] - 0s 4ms/step - loss: 60.2868\n",
      "Epoch 19/50\n",
      "12/12 [==============================] - 0s 4ms/step - loss: 60.1395\n",
      "Epoch 20/50\n",
      "12/12 [==============================] - 0s 4ms/step - loss: 60.8354\n",
      "Epoch 21/50\n",
      "12/12 [==============================] - 0s 4ms/step - loss: 60.2904\n",
      "Epoch 22/50\n",
      "12/12 [==============================] - 0s 4ms/step - loss: 59.3464\n",
      "Epoch 23/50\n",
      "12/12 [==============================] - 0s 4ms/step - loss: 59.2267\n",
      "Epoch 24/50\n",
      "12/12 [==============================] - 0s 4ms/step - loss: 58.8271\n",
      "Epoch 25/50\n",
      "12/12 [==============================] - 0s 4ms/step - loss: 57.7753\n",
      "Epoch 26/50\n",
      "12/12 [==============================] - 0s 4ms/step - loss: 57.5990\n",
      "Epoch 27/50\n",
      "12/12 [==============================] - 0s 4ms/step - loss: 56.6210\n",
      "Epoch 28/50\n",
      "12/12 [==============================] - 0s 4ms/step - loss: 57.9273\n",
      "Epoch 29/50\n",
      "12/12 [==============================] - 0s 4ms/step - loss: 57.3181\n",
      "Epoch 30/50\n",
      "12/12 [==============================] - 0s 4ms/step - loss: 55.3738\n",
      "Epoch 31/50\n",
      "12/12 [==============================] - 0s 4ms/step - loss: 55.5546\n",
      "Epoch 32/50\n",
      "12/12 [==============================] - 0s 4ms/step - loss: 55.7815\n",
      "Epoch 33/50\n",
      "12/12 [==============================] - 0s 4ms/step - loss: 54.0882\n",
      "Epoch 34/50\n",
      "12/12 [==============================] - 0s 4ms/step - loss: 53.0588\n",
      "Epoch 35/50\n",
      "12/12 [==============================] - 0s 4ms/step - loss: 53.5494\n",
      "Epoch 36/50\n",
      "12/12 [==============================] - 0s 4ms/step - loss: 53.6471\n",
      "Epoch 37/50\n",
      "12/12 [==============================] - 0s 4ms/step - loss: 52.6391\n",
      "Epoch 38/50\n",
      "12/12 [==============================] - 0s 4ms/step - loss: 50.4941\n",
      "Epoch 39/50\n",
      "12/12 [==============================] - 0s 4ms/step - loss: 50.3450\n",
      "Epoch 40/50\n",
      "12/12 [==============================] - 0s 4ms/step - loss: 49.7787\n",
      "Epoch 41/50\n",
      "12/12 [==============================] - 0s 4ms/step - loss: 48.4224\n",
      "Epoch 42/50\n",
      "12/12 [==============================] - 0s 4ms/step - loss: 48.2659\n",
      "Epoch 43/50\n",
      "12/12 [==============================] - 0s 4ms/step - loss: 48.4122\n",
      "Epoch 44/50\n",
      "12/12 [==============================] - 0s 4ms/step - loss: 47.6428\n",
      "Epoch 45/50\n",
      "12/12 [==============================] - 0s 4ms/step - loss: 48.9171\n",
      "Epoch 46/50\n",
      "12/12 [==============================] - 0s 4ms/step - loss: 46.2630\n",
      "Epoch 47/50\n",
      "12/12 [==============================] - 0s 4ms/step - loss: 49.8401\n",
      "Epoch 48/50\n",
      "12/12 [==============================] - 0s 4ms/step - loss: 52.5914\n",
      "Epoch 49/50\n",
      "12/12 [==============================] - 0s 4ms/step - loss: 45.5682\n",
      "Epoch 50/50\n",
      "12/12 [==============================] - 0s 4ms/step - loss: 43.7509\n"
     ]
    },
    {
     "data": {
      "text/plain": [
       "<keras.callbacks.History at 0x24ffc4eaee0>"
      ]
     },
     "execution_count": 10,
     "metadata": {},
     "output_type": "execute_result"
    }
   ],
   "source": [
    "import tensorflow as tf\n",
    "model = tf.keras.Sequential([\n",
    "    tf.keras.layers.Dense(13,  activation='relu'),\n",
    "    tf.keras.layers.Dense(16, activation = 'relu'),\n",
    "    tf.keras.layers.Dense(32, activation = 'relu'),\n",
    "    tf.keras.layers.Dense(16, activation = 'relu'),\n",
    "    tf.keras.layers.Dense(1, activation='linear')\n",
    "])\n",
    "model.compile(optimizer='adam',loss = tf.keras.losses.MeanSquaredError())\n",
    "model.fit(X_train,y_train,epochs=50)"
   ]
  },
  {
   "cell_type": "code",
   "execution_count": 11,
   "id": "a0c1fec8",
   "metadata": {},
   "outputs": [
    {
     "name": "stdout",
     "output_type": "stream",
     "text": [
      "4/4 [==============================] - 0s 4ms/step\n"
     ]
    },
    {
     "data": {
      "text/plain": [
       "array([[29.193506],\n",
       "       [33.168316],\n",
       "       [21.205187],\n",
       "       [26.361038],\n",
       "       [19.777391],\n",
       "       [23.12313 ],\n",
       "       [21.179684],\n",
       "       [18.45548 ],\n",
       "       [21.950686],\n",
       "       [25.117796],\n",
       "       [22.596796],\n",
       "       [23.62709 ],\n",
       "       [13.669588],\n",
       "       [23.435507],\n",
       "       [23.66085 ],\n",
       "       [20.007223],\n",
       "       [20.11759 ],\n",
       "       [14.154069],\n",
       "       [35.645992],\n",
       "       [19.834286],\n",
       "       [30.125889],\n",
       "       [31.411524],\n",
       "       [16.560534],\n",
       "       [24.36117 ],\n",
       "       [16.261103],\n",
       "       [16.76366 ],\n",
       "       [25.26426 ],\n",
       "       [11.396479],\n",
       "       [22.158678],\n",
       "       [24.92782 ],\n",
       "       [26.513884],\n",
       "       [27.233953],\n",
       "       [19.677797],\n",
       "       [22.37004 ],\n",
       "       [15.910096],\n",
       "       [15.218652],\n",
       "       [29.126493],\n",
       "       [26.91293 ],\n",
       "       [21.823933],\n",
       "       [24.222445],\n",
       "       [21.753296],\n",
       "       [33.02508 ],\n",
       "       [36.49537 ],\n",
       "       [25.048874],\n",
       "       [28.05235 ],\n",
       "       [20.399406],\n",
       "       [18.52522 ],\n",
       "       [25.216343],\n",
       "       [20.504782],\n",
       "       [32.299828],\n",
       "       [26.62697 ],\n",
       "       [31.954195],\n",
       "       [21.302902],\n",
       "       [27.49903 ],\n",
       "       [33.285984],\n",
       "       [21.200592],\n",
       "       [21.109695],\n",
       "       [34.59394 ],\n",
       "       [27.340462],\n",
       "       [22.515486],\n",
       "       [27.532352],\n",
       "       [34.02672 ],\n",
       "       [27.943731],\n",
       "       [15.280763],\n",
       "       [26.037844],\n",
       "       [20.060759],\n",
       "       [20.087831],\n",
       "       [29.863363],\n",
       "       [33.808567],\n",
       "       [11.78462 ],\n",
       "       [25.174328],\n",
       "       [22.42436 ],\n",
       "       [14.701685],\n",
       "       [27.658875],\n",
       "       [24.346905],\n",
       "       [11.518394],\n",
       "       [25.657658],\n",
       "       [36.3593  ],\n",
       "       [17.742496],\n",
       "       [17.75403 ],\n",
       "       [26.720613],\n",
       "       [14.425237],\n",
       "       [29.697475],\n",
       "       [16.712347],\n",
       "       [25.26817 ],\n",
       "       [25.432167],\n",
       "       [15.18836 ],\n",
       "       [27.922287],\n",
       "       [29.202482],\n",
       "       [22.93962 ],\n",
       "       [27.85581 ],\n",
       "       [14.058484],\n",
       "       [23.99137 ],\n",
       "       [21.476042],\n",
       "       [20.942392],\n",
       "       [23.646938],\n",
       "       [20.934277],\n",
       "       [11.866974],\n",
       "       [11.746798],\n",
       "       [11.773201],\n",
       "       [26.065771],\n",
       "       [24.384233],\n",
       "       [14.126904],\n",
       "       [26.074032],\n",
       "       [25.56008 ],\n",
       "       [11.346479],\n",
       "       [24.57622 ],\n",
       "       [27.634787],\n",
       "       [27.180439],\n",
       "       [32.240044],\n",
       "       [11.283854],\n",
       "       [15.614265],\n",
       "       [26.666525],\n",
       "       [30.870428],\n",
       "       [27.481663],\n",
       "       [15.051868],\n",
       "       [31.832386],\n",
       "       [15.27159 ],\n",
       "       [25.552885],\n",
       "       [27.87548 ],\n",
       "       [23.769644],\n",
       "       [27.732542],\n",
       "       [13.063462],\n",
       "       [26.281975],\n",
       "       [27.239777],\n",
       "       [26.97954 ],\n",
       "       [30.357605]], dtype=float32)"
      ]
     },
     "execution_count": 11,
     "metadata": {},
     "output_type": "execute_result"
    }
   ],
   "source": [
    "model.predict(X_test)"
   ]
  },
  {
   "cell_type": "code",
   "execution_count": 12,
   "id": "d841231d",
   "metadata": {},
   "outputs": [
    {
     "name": "stdout",
     "output_type": "stream",
     "text": [
      "4/4 [==============================] - 0s 5ms/step - loss: 34.9807\n"
     ]
    },
    {
     "data": {
      "text/plain": [
       "34.98070526123047"
      ]
     },
     "execution_count": 12,
     "metadata": {},
     "output_type": "execute_result"
    }
   ],
   "source": [
    "model.evaluate(X_test, y_test)"
   ]
  },
  {
   "cell_type": "code",
   "execution_count": 13,
   "id": "30fced32",
   "metadata": {},
   "outputs": [
    {
     "data": {
      "text/plain": [
       "CRIM         0.09178\n",
       "ZN           0.00000\n",
       "INDUS        4.05000\n",
       "CHAS         0.00000\n",
       "NOX          0.51000\n",
       "RM           6.41600\n",
       "AGE         84.10000\n",
       "DIS          2.64630\n",
       "RAD          5.00000\n",
       "TAX        296.00000\n",
       "PTRATIO     16.60000\n",
       "B          395.50000\n",
       "LSTAT        9.04000\n",
       "Name: 173, dtype: float64"
      ]
     },
     "execution_count": 13,
     "metadata": {},
     "output_type": "execute_result"
    }
   ],
   "source": [
    "X_test.iloc[0]"
   ]
  },
  {
   "cell_type": "code",
   "execution_count": 14,
   "id": "f64c48fe",
   "metadata": {},
   "outputs": [],
   "source": [
    "d = list(X_test.iloc[0])"
   ]
  },
  {
   "cell_type": "code",
   "execution_count": 15,
   "id": "7f73060a",
   "metadata": {},
   "outputs": [
    {
     "name": "stdout",
     "output_type": "stream",
     "text": [
      "1/1 [==============================] - 0s 213ms/step\n",
      "Predicted Price:  29.193506\n"
     ]
    }
   ],
   "source": [
    "print(\"Predicted Price: \",list(model.predict([d]))[0][0])"
   ]
  },
  {
   "cell_type": "code",
   "execution_count": 16,
   "id": "5a900c5c",
   "metadata": {},
   "outputs": [
    {
     "name": "stdout",
     "output_type": "stream",
     "text": [
      "Actual Price:  23.6\n"
     ]
    }
   ],
   "source": [
    "print(\"Actual Price: \",y_test.iloc[0])"
   ]
  },
  {
   "cell_type": "code",
   "execution_count": null,
   "id": "fc48a48b",
   "metadata": {},
   "outputs": [],
   "source": []
  }
 ],
 "metadata": {
  "kernelspec": {
   "display_name": "Python 3",
   "language": "python",
   "name": "python3"
  },
  "language_info": {
   "codemirror_mode": {
    "name": "ipython",
    "version": 3
   },
   "file_extension": ".py",
   "mimetype": "text/x-python",
   "name": "python",
   "nbconvert_exporter": "python",
   "pygments_lexer": "ipython3",
   "version": "3.9.16"
  }
 },
 "nbformat": 4,
 "nbformat_minor": 5
}
